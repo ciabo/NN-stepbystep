{
 "cells": [
  {
   "cell_type": "markdown",
   "metadata": {
    "nbgrader": {
     "cell_type": "markdown",
     "checksum": "2cb627f4a1e41790f19627b30c0ac69d",
     "grade": false,
     "grade_id": "cell-67269ab90eaf800f",
     "locked": true,
     "schema_version": 3,
     "solution": false
    }
   },
   "source": [
    "## Neural  Networks\n",
    "\n",
    "\n",
    "### 1.0 Loading and visualizing the data\n",
    "\n",
    "The dataset for this task is a smaller version of MNIST (a database of handwritten digits) and contains 500 training samples and 200 test samples of handwritten digits collected from post-codes written on envelopes. Each sample is a\n",
    "$28\\times28$ pixels gray level image with an intensity that varies from 0 to 255, showing a single digit. For simplicity, each image is represented by a 784-dimensional vector. You can visualize the images as follows:"
   ]
  },
  {
   "cell_type": "code",
   "execution_count": 1,
   "metadata": {
    "ExecuteTime": {
     "end_time": "2018-10-30T09:57:26.914762Z",
     "start_time": "2018-10-30T09:57:26.197087Z"
    },
    "nbgrader": {
     "cell_type": "code",
     "checksum": "18711f392a434d6ad82a776cc512612d",
     "grade": false,
     "grade_id": "cell-927643fad784b271",
     "locked": true,
     "schema_version": 3,
     "solution": false
    }
   },
   "outputs": [
    {
     "name": "stdout",
     "output_type": "stream",
     "text": [
      "Number of train images: 500\n",
      "Number of test images: 200\n",
      "Image dim (flattened): 784\n",
      "Label: 1\n"
     ]
    },
    {
     "data": {
      "image/png": "[encoded data removed]",
      "text/plain": [
       "<Figure size 288x288 with 1 Axes>"
      ]
     },
     "metadata": {
      "needs_background": "light"
     },
     "output_type": "display_data"
    },
    {
     "name": "stdout",
     "output_type": "stream",
     "text": [
      "Label: 9\n"
     ]
    },
    {
     "data": {
      "image/png": "[encoded data removed]",
      "text/plain": [
       "<Figure size 288x288 with 1 Axes>"
      ]
     },
     "metadata": {
      "needs_background": "light"
     },
     "output_type": "display_data"
    },
    {
     "name": "stdout",
     "output_type": "stream",
     "text": [
      "Label: 8\n"
     ]
    },
    {
     "data": {
      "image/png": "[encoded data removed]",
      "text/plain": [
       "<Figure size 288x288 with 1 Axes>"
      ]
     },
     "metadata": {
      "needs_background": "light"
     },
     "output_type": "display_data"
    },
    {
     "name": "stdout",
     "output_type": "stream",
     "text": [
      "Label: 6\n"
     ]
    },
    {
     "data": {
      "image/png": "[encoded data removed]",
      "text/plain": [
       "<Figure size 288x288 with 1 Axes>"
      ]
     },
     "metadata": {
      "needs_background": "light"
     },
     "output_type": "display_data"
    }
   ],
   "source": [
    "import pickle\n",
    "import numpy as np\n",
    "import matplotlib.pyplot as plt\n",
    "%matplotlib notebook\n",
    "%matplotlib inline\n",
    "\n",
    "# train_set, test_set format: tuple(input, target)\n",
    "# input is a numpy.ndarray of 2 dimensions (a matrix)\n",
    "# where each row corresponds to an example.\n",
    "# The target is a numpy.ndarray of 1 dimension (vector)\n",
    "# that has the same length as the number of example images.\n",
    "\n",
    "# Load the data\n",
    "with open('./Data/mnist_sample.pkl', 'rb') as f:\n",
    "    train_set, test_set = pickle.load(f, encoding='latin1')\n",
    "\n",
    "# Divide in data and labels\n",
    "x_train, y_train = train_set\n",
    "x_test, y_test = test_set\n",
    "\n",
    "# labels are given as integers, but we'll use one-hot encoding to represent them\n",
    "y_train_1h = np.eye(10)[y_train]\n",
    "y_test_1h = np.eye(10)[y_test]\n",
    "\n",
    "# Print some info on the train and test set\n",
    "print('Number of train images:', x_train.shape[0])\n",
    "print('Number of test images:', x_test.shape[0])\n",
    "print('Image dim (flattened):', x_train.shape[1])\n",
    "\n",
    "for i in range(2):\n",
    "    # plot the first examples in the training set\n",
    "    print(\"Label:\", y_train[i])\n",
    "    plt.matshow(x_train[i].reshape(28, 28), cmap=plt.cm.gray)\n",
    "    plt.show()\n",
    "\n",
    "    # plot the first examples in the test set\n",
    "    print(\"Label:\", y_test[i])\n",
    "    plt.matshow(x_test[i].reshape(28, 28), cmap=plt.cm.gray)\n",
    "    plt.show()"
   ]
  },
  {
   "cell_type": "markdown",
   "metadata": {
    "nbgrader": {
     "cell_type": "markdown",
     "checksum": "627b25a993bf60fec1543fad1d5fae16",
     "grade": false,
     "grade_id": "cell-9d56c289001d5a1a",
     "locked": true,
     "schema_version": 3,
     "solution": false
    }
   },
   "source": [
    "### 1.1 One-layer feedforward networks and the delta rule\n",
    "\n",
    "Now we proceed to create a one layer network with the following steps:\n",
    "\n",
    "#### 1. Compute the output of the network (Forward pass):\n",
    "Our task consists in a multi-class classification problem. A core ingredient of the neural network is the activation function of the output layer. In this case, the activation will be a softmax operator, which rescales a multidimensional vector to the range (0-1), and with its sum being equal to 1.\n",
    "\n",
    "An example of how the softmax operation rescales a given vector:\n",
    "<img src=\"./imgs/softmax.png\" alt=\"softmax\" style=\"width: 400px;\"/>\n",
    "\n",
    "This can be seen as a probability distribution of an input belonging to each of the $k$ classes:\n",
    "<img src=\"./imgs/probability_distribution.png\" alt=\"softmax\" style=\"width: 400px;\"/>\n",
    "\n",
    "The formulation is as follows:\n",
    "\n",
    "\\begin{equation}\n",
    "    \\pmb{\\hat{y}} = p_j = \\frac{e^{o_j}}{\\sum_k{e^{o_k}}}\n",
    "\\end{equation}\n",
    "\n",
    "Where $p_j$ is the probability distribution of sample j  belonging to each class. Therefore $\\sum p_j = 1$\n",
    "And $o_j$ is the dot product of the weight matrix and the input:\n",
    "\\begin{equation}\n",
    "o_j = \\pmb{x} · W_{i,:} \n",
    "\\end{equation}\n",
    "\n",
    "Here we assume $x$ to be a vector with $l+1$ elements and matrix $W$ to have the dimensionality of $[(l+1)\\times k]$. $p$ corresponds to the dimensionality of the input layer, in this case we defined it as a 784-dimensional vector (total amount of pixels in the image). The extra element ($+1$) in $x$ and $W$ correspond to the bias term.   \n",
    "\n",
    "#### 2. Compute the loss function:\n",
    "\n",
    "In order to evaluate the network performance a loss function is defined. The loss function indicates how good or bad is the network output with respect to the true label. Loss functions are chosen according to the problem at hand, in this case we will be using the cross-entropy (a.k.a. log-loss).\n",
    "\n",
    "The cross-entropy loss for N samples and K classes is defined as follows:\n",
    "\n",
    "$$L = -\\frac{1}{N}\\sum_{i=1}^N\\sum_{k=1}^K t_{i,k} \\log(\\hat{y}_{i,k})$$\n",
    "\n",
    "where *log* is the natural logarithm, $t_{i,k}$ is 1 if observation i is in class k and 0 otherwise, and $\\hat{y}_{i,k}$ is the predicted probability that observation i is in class k. \n",
    "\n",
    "Notice that this function averages the loss according to a batch of N samples.\n",
    "\n",
    "#### 3. Compute the gradient of the cross-entropy error wrt the softmax input: $∂o$\n",
    "\n",
    "$$L = -\\sum _{k} t_{i,k} \\log(\\hat{y}_{i,k})$$\n",
    "\n",
    "$$\\frac{∂L}{∂o_{i}} = -\\sum _{k} t_{i,k} \\frac{1}{p_k}\\frac{∂p_k}{∂o_{i}} $$\n",
    "\n",
    "and after some additional steps:\n",
    "\n",
    "\\begin{equation}\n",
    "    \\delta_o = \\frac{∂L}{∂o} = \\pmb{\\hat{y}} − \\pmb{y}\n",
    "\\end{equation} \n",
    "\n",
    "where:\n",
    "$o = x · W $ (Bias component as part of x and W)\n",
    "\n",
    "$\\pmb{y}$ is the one-hot encoded target vector\n",
    "\n",
    "<br><br>\n",
    "#### 4. Compute the gradient of the error function with respect to the current weights at iteration $\\tau$:\n",
    "\\begin{equation}\n",
    "    \\frac{∂L}{∂W^{\\tau}} = \\frac{∂L}{∂o} \\frac{∂o}{∂W^{\\tau}}= \\pmb{x}^T · \\delta_o\n",
    "\\end{equation} \n",
    "\n",
    "#### 5. Finally, update the weights at iteration $\\tau$ using a stochastic gradient descent (SGD) update rule with a learning rate of $\\eta$:\n",
    "\\begin{equation}\n",
    "   W^{\\tau +1} = W^{\\tau} − η \\frac{∂L}{∂W^{\\tau}}\n",
    "\\end{equation}"
   ]
  },
  {
   "cell_type": "markdown",
   "metadata": {
    "nbgrader": {
     "cell_type": "markdown",
     "checksum": "684bdc1104b961dcc6926e5abd595d52",
     "grade": false,
     "grade_id": "cell-aa9bbaa3654c653b",
     "locked": true,
     "schema_version": 3,
     "solution": false
    }
   },
   "source": [
    "### 1.2 \n",
    "\n"
   ]
  },
  {
   "cell_type": "code",
   "execution_count": 2,
   "metadata": {
    "ExecuteTime": {
     "end_time": "2018-10-30T09:57:28.117082Z",
     "start_time": "2018-10-30T09:57:28.101084Z"
    },
    "nbgrader": {
     "cell_type": "code",
     "checksum": "2839d7b1bc8048170e41dd57b2d29483",
     "grade": false,
     "grade_id": "softmax_fun",
     "locked": false,
     "schema_version": 3,
     "solution": true
    }
   },
   "outputs": [
    {
     "name": "stdout",
     "output_type": "stream",
     "text": [
      "True\n"
     ]
    }
   ],
   "source": [
    "def softmax(x):\n",
    "    resM = None\n",
    "    for row in x:   \n",
    "        e = np.exp(row)\n",
    "        res = np.divide(e,np.sum(e))\n",
    "        resM = res if resM is None else np.vstack((resM,res))\n",
    "    return resM\n",
    "\n",
    "# If you want, you can test if your function works correctly.\n",
    "test_array = np.array([[0.101, 0.202, 0.303],\n",
    "                       [0.404, 0.505, 0.606]])\n",
    "test_output = [[0.30028906,  0.33220277,  0.36750817],\n",
    "               [0.30028906,  0.33220277,  0.36750817]]\n",
    "\n",
    "# This should equal to True\n",
    "print(np.allclose(softmax(test_array), test_output))"
   ]
  },
  {
   "cell_type": "markdown",
   "metadata": {
    "ExecuteTime": {
     "end_time": "2017-11-13T09:34:21.462944Z",
     "start_time": "2017-11-13T09:34:21.448500Z"
    },
    "nbgrader": {
     "cell_type": "markdown",
     "checksum": "8c9c0a855b0a5078524d1e56befcdaf0",
     "grade": false,
     "grade_id": "cell-16ced17ec18dc821",
     "locked": true,
     "schema_version": 3,
     "solution": false
    }
   },
   "source": [
    "Now we implement the cross-entropy loss following step 2 instructions:\n",
    "\n",
    "To avoid numerical issues with logarithm,  we will clip the predictions to $[10^{-12}, 1-10^{-12}]$ range. This means every value outside the range will be clipped to the interval edges"
   ]
  },
  {
   "cell_type": "code",
   "execution_count": 3,
   "metadata": {
    "ExecuteTime": {
     "end_time": "2018-10-30T09:57:28.723450Z",
     "start_time": "2018-10-30T09:57:28.710455Z"
    },
    "nbgrader": {
     "cell_type": "code",
     "checksum": "743152b4d7d77a9fbfc12d1328213b55",
     "grade": false,
     "grade_id": "cell-843ab4b34bf8bb18",
     "locked": false,
     "schema_version": 3,
     "solution": true
    }
   },
   "outputs": [
    {
     "name": "stdout",
     "output_type": "stream",
     "text": [
      "Test passed.\n"
     ]
    }
   ],
   "source": [
    "def cross_entropy(predictions, targets, epsilon=1e-12):\n",
    "    \"\"\"\n",
    "    Computes stable cross entropy between predictions and targets\n",
    "    :param predictions: Corresponds to the output vector of the neural net (n_observations, n_classes)\n",
    "    :param targets: targets are the true labels encoded as one-hot vector (n_observations, n_classes)\n",
    "    \"\"\"\n",
    "    predictions = np.clip(predictions, epsilon, 1. - epsilon)\n",
    "    L = np.sum(np.log(predictions)*targets)*(-1/predictions.shape[0])\n",
    "    return L\n",
    "\n",
    "# If you want, you can test if your function works correctly.\n",
    "predictions = np.array([[0.25, 0.25, 0.25, 0.25],\n",
    "                        [0.01, 0.01, 0.01, 0.96]])\n",
    "targets = np.array([[0, 0, 0, 1],\n",
    "                    [0, 0, 0, 1]])\n",
    "ans = 0.71355817782\n",
    "x = cross_entropy(predictions, targets)\n",
    "if np.isclose(x, ans):\n",
    "    print(\"Test passed.\")\n",
    "else:\n",
    "    print(\"Test failed.\")"
   ]
  },
  {
   "cell_type": "code",
   "execution_count": 4,
   "metadata": {
    "ExecuteTime": {
     "end_time": "2018-10-30T09:57:28.949644Z",
     "start_time": "2018-10-30T09:57:28.937344Z"
    },
    "nbgrader": {
     "cell_type": "code",
     "checksum": "151196a375e0022e42b324c34e648693",
     "grade": true,
     "grade_id": "cross_entropy",
     "locked": true,
     "points": 1,
     "schema_version": 3,
     "solution": false
    }
   },
   "outputs": [],
   "source": [
    "############################# READ ONLY #############################"
   ]
  },
  {
   "cell_type": "markdown",
   "metadata": {
    "nbgrader": {
     "cell_type": "markdown",
     "checksum": "4197a55e0255e42060f801b509b6d6ed",
     "grade": false,
     "grade_id": "cell-8c3c6407204fd6d6",
     "locked": true,
     "schema_version": 3,
     "solution": false
    }
   },
   "source": [
    "Now, define the function that updates the weights. Use previously defined functions as required"
   ]
  },
  {
   "cell_type": "code",
   "execution_count": 5,
   "metadata": {
    "ExecuteTime": {
     "end_time": "2018-10-30T09:57:29.344845Z",
     "start_time": "2018-10-30T09:57:29.335694Z"
    },
    "nbgrader": {
     "cell_type": "code",
     "checksum": "2e77632e3f398480f218296921f8b0b6",
     "grade": false,
     "grade_id": "cell-45305ab454032147",
     "locked": false,
     "schema_version": 3,
     "solution": true
    }
   },
   "outputs": [],
   "source": [
    "def update_weights(x, W, target, learning_rate):\n",
    "    \"\"\"\n",
    "    Main routine to update weights.\n",
    "\n",
    "    :param x: Input vector (1, n_features + 1)\n",
    "    :param W: Weight matrix (n_features + 1, n_classes)\n",
    "    :param target: The true label(s) encoded as one-hot vector (n_observations, n_classes)\n",
    "    :param learning_rate: alpha parameter that determines the size of updates\n",
    "\n",
    "\n",
    "    \"\"\"\n",
    "\n",
    "    # Output of the network. As explained in step 1.\n",
    "    pred = None\n",
    "\n",
    "    # compute gradient with respect to input (delta zero). As explained in step 3.\n",
    "    d_o = None\n",
    "\n",
    "    # compute gradient with respect of the weights. As explained in step 4.\n",
    "    gradient = None\n",
    "\n",
    "    # computer the new weights. As explained in step 5.\n",
    "    new_W = None\n",
    "\n",
    "    o = np.dot(x,W)\n",
    "    pred = softmax(o)\n",
    "    d_o = pred - target\n",
    "    gradient = np.dot(x.T,d_o)\n",
    "    new_W = W - learning_rate * gradient\n",
    "    return(new_W)"
   ]
  },
  {
   "cell_type": "code",
   "execution_count": 6,
   "metadata": {
    "ExecuteTime": {
     "end_time": "2018-10-30T09:57:29.895831Z",
     "start_time": "2018-10-30T09:57:29.512395Z"
    },
    "nbgrader": {
     "cell_type": "code",
     "checksum": "349853f43e8b806a01bfc9af361a9777",
     "grade": true,
     "grade_id": "cell-48a2f3a5d9d56509",
     "locked": true,
     "points": 1,
     "schema_version": 3,
     "solution": false
    }
   },
   "outputs": [],
   "source": [
    "############################# READ ONLY #############################"
   ]
  },
  {
   "cell_type": "markdown",
   "metadata": {
    "nbgrader": {
     "cell_type": "markdown",
     "checksum": "8704de1e75327ff71f4acb6312d072b7",
     "grade": false,
     "grade_id": "cell-591ccacc3be3ff19",
     "locked": true,
     "schema_version": 3,
     "solution": false
    }
   },
   "source": [
    "If the update_weights function has been properly defined the next loop will train the Neural network with 5000 steps and a learning rate of 0.01"
   ]
  },
  {
   "cell_type": "code",
   "execution_count": 7,
   "metadata": {
    "ExecuteTime": {
     "end_time": "2018-10-30T09:57:31.071554Z",
     "start_time": "2018-10-30T09:57:29.994547Z"
    },
    "nbgrader": {
     "cell_type": "code",
     "checksum": "9a3339887fd2c07c1b6f68c219d0b989",
     "grade": false,
     "grade_id": "cell-e9fa86f96c7a5da4",
     "locked": true,
     "schema_version": 3,
     "solution": false
    }
   },
   "outputs": [
    {
     "data": {
      "image/png": "[encoded data removed]",
      "text/plain": [
       "<Figure size 432x288 with 1 Axes>"
      ]
     },
     "metadata": {
      "needs_background": "light"
     },
     "output_type": "display_data"
    },
    {
     "name": "stdout",
     "output_type": "stream",
     "text": [
      "Train CE 0.004206257361017234\n",
      "Train accuracy 1.0\n",
      "Test CE 0.40696767987511595\n",
      "Test accuracy 0.895\n"
     ]
    }
   ],
   "source": [
    "rng = np.random.RandomState(82)  # set seed for the random number generator\n",
    "x_dim = x_train.shape[1]  # number of pixels in the image\n",
    "n_train = x_train.shape[0]  # number of training examples\n",
    "n_test = x_test.shape[0]  # number of test examples\n",
    "n_classes = 10  # number of classes\n",
    "\n",
    "# create an initial weigth matrix with dimensions (n_classes, x_dim + 1)\n",
    "# 1 is added to x_dim to account for the bias\n",
    "W = rng.normal(size=(x_dim + 1, n_classes)) * 0.001\n",
    "\n",
    "n_iter = 10000  # number of training iterations\n",
    "learning_rate = 0.1  # learning rate\n",
    "\n",
    "ce_train = []\n",
    "ce_test = []\n",
    "\n",
    "for iter in range(n_iter):\n",
    "    i = rng.randint(n_train)  # random index for an image\n",
    "    x = np.append(x_train[i], 1)[None, :]  # appends 1 for bias\n",
    "    target = y_train_1h[i][None, :]  # 1-hot encoded target vector\n",
    "\n",
    "    # update weights using the previously defined function\n",
    "    new_W = update_weights(x, W, target, learning_rate)\n",
    "    W = new_W\n",
    "\n",
    "    # compute CE on the full training set every 100 iterations\n",
    "    if iter % 100 == 0:\n",
    "        # compute CE for every training sample\n",
    "        x = np.concatenate((x_train, np.ones((n_train, 1))), axis=1)\n",
    "        x_pred = softmax(np.dot(x, W))\n",
    "        ce_train.append(cross_entropy(x_pred, y_train_1h))\n",
    "\n",
    "        x = np.concatenate((x_test, np.ones((n_test, 1))), axis=1)\n",
    "        x_pred = softmax(np.dot(x, W))\n",
    "        ce_test.append(cross_entropy(x_pred, y_test_1h))\n",
    "\n",
    "\n",
    "plt.plot(np.arange(n_iter/100), ce_train, label='Train cross-entropy')\n",
    "plt.plot(np.arange(n_iter/100), ce_test, label='Test cross-entropy')\n",
    "plt.legend()\n",
    "plt.show()\n",
    "\n",
    "# train error after training the NN\n",
    "x = np.concatenate((x_train, np.ones((n_train, 1))), axis=1)\n",
    "x_pred = softmax(np.dot(x, W))\n",
    "x_pred_max = np.argmax(x_pred, axis=1)\n",
    "ans_ce_train = cross_entropy(x_pred, y_train_1h)\n",
    "ans_acc_train = 1. * np.equal(x_pred_max, y_train).sum() / n_train\n",
    "print('Train CE', ans_ce_train)\n",
    "print('Train accuracy', ans_acc_train)\n",
    "\n",
    "# test error after training the NN\n",
    "x = np.concatenate((x_test, np.ones((n_test, 1))), axis=1)\n",
    "x_pred = softmax(np.dot(x, W))\n",
    "x_pred_max = np.argmax(x_pred, axis=1)\n",
    "ans_ce_test = cross_entropy(x_pred, y_test_1h)\n",
    "ans_acc_test = 1. * np.equal(x_pred_max, y_test).sum() / n_test\n",
    "print('Test CE', ans_ce_test)\n",
    "print('Test accuracy',  ans_acc_test)"
   ]
  },
  {
   "cell_type": "markdown",
   "metadata": {
    "nbgrader": {
     "cell_type": "markdown",
     "checksum": "1c3c1fd5a7b3ad029ecf2bea8cc4e195",
     "grade": false,
     "grade_id": "cell-b3afff8b0f7693a2",
     "locked": true,
     "schema_version": 3,
     "solution": false
    }
   },
   "source": [
    "### 1.3 Tuning a Neural Network\n",
    "\n",
    "In this section we will show examples and discuss the tuning process of the network. \n",
    "**Important: you require to have the update_weights function properly defined.**\n",
    "\n",
    "Try to experiment with different values for the learning rate, e.g. $η = \\{0.000001, 0.001, 0.01, 0.02, 0.7\\}$, as well with different amount of iterations.\n",
    "\n",
    "- What are the lowest train and test errors you get? \n",
    "\n",
    "- What happens to the training curve when using different learning rates? When it is small? and when it is large?\n",
    "\n",
    "- Gradient based algorithms are scale-sensible algorithm, meaning that the magnitude of the variables affects its performance. When using gradient-based learning, it is recommended to scale the input data so the features are in [0, 1] or [-1, +1] range, or such that they have 0 mean and unit variance. In most cases it improves convergence.\n",
    "\n",
    "- Inspect the training error and testing error plots. What do you notice? What is the relation between the training and testing errors?"
   ]
  },
  {
   "cell_type": "code",
   "execution_count": 8,
   "metadata": {
    "ExecuteTime": {
     "end_time": "2018-10-30T09:57:34.330272Z",
     "start_time": "2018-10-30T09:57:31.077573Z"
    },
    "nbgrader": {
     "cell_type": "code",
     "checksum": "3b67ac6efe1ec9058fdb7e291f19070d",
     "grade": false,
     "grade_id": "cell-f7995723ae2020b8",
     "locked": true,
     "schema_version": 3,
     "solution": false
    }
   },
   "outputs": [
    {
     "data": {
      "image/png": "[encoded data removed]",
      "text/plain": [
       "<Figure size 432x288 with 1 Axes>"
      ]
     },
     "metadata": {
      "needs_background": "light"
     },
     "output_type": "display_data"
    },
    {
     "name": "stdout",
     "output_type": "stream",
     "text": [
      "Maximum accuracy on test (0.845 %) with learning rate 0.01\n"
     ]
    },
    {
     "data": {
      "image/png": "[encoded data removed]",
      "text/plain": [
       "<Figure size 432x288 with 1 Axes>"
      ]
     },
     "metadata": {
      "needs_background": "light"
     },
     "output_type": "display_data"
    },
    {
     "name": "stdout",
     "output_type": "stream",
     "text": [
      "Maximum accuracy on test (0.845 %) with learning rate 0.01\n"
     ]
    }
   ],
   "source": [
    "from sklearn.preprocessing import StandardScaler, MinMaxScaler\n",
    "x_train_copy = x_train.copy()\n",
    "x_test_copy = x_test.copy()\n",
    "storing_step = 100  # Variable for plotting/storing purposes.\n",
    "\n",
    "#------------------------------------------------------------------------------------#\n",
    "# We use the scaler functions from Sklearn to transform the training and testing data\n",
    "#------------------------------------------------------------------------------------#\n",
    "\n",
    "standard_scaler = StandardScaler(with_mean=0, with_std=1)\n",
    "minmax_scaler = MinMaxScaler(feature_range=(-1, 1))\n",
    "\n",
    "#x_train_copy = minmax_scaler.fit_transform(x_train_copy)\n",
    "#x_test_copy = minmax_scaler.transform(x_test_copy)\n",
    "\n",
    "# You can also try the standard scaler\n",
    "\n",
    "x_train_copy = standard_scaler.fit_transform(x_train_copy)\n",
    "x_test_copy = standard_scaler.transform(x_test_copy)\n",
    "\n",
    "#------------------------------------------------------------------------------------#\n",
    "# Number of iterations                                                               #\n",
    "#------------------------------------------------------------------------------------#\n",
    "n_iter = 5000\n",
    "\n",
    "#------------------------------------------------------------------------------------#\n",
    "# Learning rates                                                                     #\n",
    "#------------------------------------------------------------------------------------#\n",
    "learning_rates = [0.000001, 0.001, 0.01, 0.02, 0.07]\n",
    "\n",
    "\n",
    "# Dictionary to store information while training\n",
    "stats = {'ce_loss_train': np.zeros([len(learning_rates), n_iter//storing_step]),\n",
    "         'ce_loss_test': np.zeros([len(learning_rates), n_iter//storing_step]),\n",
    "         'train_loss': np.zeros(len(learning_rates)),\n",
    "         'train_acc': np.zeros(len(learning_rates)),\n",
    "         'test_loss': np.zeros(len(learning_rates)),\n",
    "         'test_acc': np.zeros(len(learning_rates))}\n",
    "\n",
    "for e, learning_rate in enumerate(learning_rates):\n",
    "    k = 0\n",
    "    W = rng.normal(size=(x_dim + 1, n_classes)) * 0.01\n",
    "\n",
    "    # TRAINING\n",
    "    for iter in range(n_iter):\n",
    "        i = rng.randint(n_train)  # random index for an image\n",
    "        x = np.append(x_train_copy[i], 1)[None, :]  # appends 1 for bias\n",
    "        target = y_train_1h[i][None, :]       # 1-hot encoded target vector\n",
    "\n",
    "        # # # # # # # # # # # # # # # # # # # # # # # # # # # # #\n",
    "        # Update weights using the previously defined function  #\n",
    "        # # # # # # # # # # # # # # # # # # # # # # # # # # # # #\n",
    "\n",
    "        new_W = update_weights(x, W, target, learning_rate)\n",
    "\n",
    "        # ! UPDATE WEIGHTS\n",
    "        W = new_W\n",
    "\n",
    "        # compute CE on the full training set every 100 iterations\n",
    "        if iter % storing_step == 0:\n",
    "            # compute CE for every training sample\n",
    "            x = np.concatenate((x_train_copy, np.ones((n_train, 1))), axis=1)\n",
    "            x_pred = softmax(np.dot(x, W))\n",
    "            #x_pred_max = np.argmax(x_pred,axis=1)\n",
    "            stats['ce_loss_train'][e][k] = cross_entropy(\n",
    "                x_pred, y_train_1h)/n_train\n",
    "\n",
    "            x = np.concatenate((x_test_copy, np.ones((n_test, 1))), axis=1)\n",
    "            x_pred = softmax(np.dot(x, W))\n",
    "            #x_pred_max = np.argmax(x_pred,axis=1)\n",
    "            stats['ce_loss_test'][e][k] = cross_entropy(\n",
    "                x_pred, y_test_1h)/n_train\n",
    "\n",
    "            k += 1\n",
    "\n",
    "    # final train error\n",
    "    x = np.concatenate((x_train_copy, np.ones((n_train, 1))), axis=1)\n",
    "    x_pred = softmax(np.dot(x, W))\n",
    "    x_pred_max = np.argmax(x_pred, axis=1)\n",
    "\n",
    "    stats['train_loss'][e] = cross_entropy(x_pred, y_train_1h) / n_train\n",
    "    stats['train_acc'][e] = 1. * np.equal(x_pred_max, y_train).sum() / n_train\n",
    "\n",
    "    x = np.concatenate((x_test_copy, np.ones((n_test, 1))), axis=1)\n",
    "    x_pred = softmax(np.dot(x, W))\n",
    "    x_pred_max = np.argmax(x_pred, axis=1)\n",
    "\n",
    "    stats['test_loss'][e] = cross_entropy(x_pred, y_test_1h) / n_test\n",
    "    stats['test_acc'][e] = 1. * np.equal(x_pred_max, y_test).sum() / n_test\n",
    "\n",
    "plt.plot(stats['ce_loss_train'].T)\n",
    "plt.legend([str(s) for s in learning_rates])\n",
    "plt.title(\"Training loss \")\n",
    "plt.show()\n",
    "max_ix = np.argmax(stats[\"train_acc\"])\n",
    "print(\"Maximum accuracy on test ({} %) with learning rate {}\".format(\n",
    "    stats[\"test_acc\"][max_ix], learning_rates[max_ix]))\n",
    "\n",
    "plt.plot(stats['ce_loss_test'].T)\n",
    "plt.legend([str(s) for s in learning_rates])\n",
    "plt.title(\"Testing loss \")\n",
    "plt.show()\n",
    "\n",
    "max_ix = np.argmax(stats[\"test_acc\"])\n",
    "print(\"Maximum accuracy on test ({} %) with learning rate {}\".format(\n",
    "    stats[\"test_acc\"][max_ix], learning_rates[max_ix]))"
   ]
  },
  {
   "cell_type": "markdown",
   "metadata": {
    "nbgrader": {
     "cell_type": "markdown",
     "checksum": "4cbdad854e2021211b91e86038d569d0",
     "grade": false,
     "grade_id": "cell-94da831ebe738e8f",
     "locked": true,
     "schema_version": 3,
     "solution": false
    }
   },
   "source": [
    "### 1.4 Visualizing the weights\n",
    "\n",
    "Now we will train the network longer, e.g. for 10000 iterations with  $η = 0.01$ and visualize the weights.\n",
    "We do this per row, but exclude the last column, which includes the bias weight (reshape the resulting vector to $28 \\times 28$ as we did with images). Do you observe something peculiar? Do you know why it happens?"
   ]
  },
  {
   "cell_type": "code",
   "execution_count": 9,
   "metadata": {
    "ExecuteTime": {
     "end_time": "2018-10-30T09:57:34.884965Z",
     "start_time": "2018-10-30T09:57:34.348151Z"
    },
    "nbgrader": {
     "cell_type": "code",
     "checksum": "03c018333a6038a22908466673dd2340",
     "grade": false,
     "grade_id": "cell-4fe293094646ad72",
     "locked": true,
     "schema_version": 3,
     "solution": false
    }
   },
   "outputs": [],
   "source": [
    "learning_rate = 0.01\n",
    "n_iter = 10000\n",
    "k = 0\n",
    "\n",
    "W = rng.normal(size=(x_dim + 1, n_classes)) * 0.01\n",
    "\n",
    "bkp_rate = 1000\n",
    "\n",
    "stats = {\"backup_weights\": np.zeros([n_iter//bkp_rate, x_dim, n_classes])}\n",
    "for iter in range(n_iter):\n",
    "    i = rng.randint(n_train)  # random index for an image\n",
    "    x = np.append(x_train[i], 1)[None, :]  # appends 1 for bias\n",
    "    target = y_train_1h[i][None, :]       # 1-hot encoded target vector\n",
    "\n",
    "    # # # # # # # # # # # # # # # # # # # # # # # # # # # # #\n",
    "    # Update weights using the previously defined function  #\n",
    "    # # # # # # # # # # # # # # # # # # # # # # # # # # # # #\n",
    "\n",
    "    new_W = update_weights(x, W, target, learning_rate)\n",
    "    W = new_W\n",
    "\n",
    "    # compute CE on the full training set every bkp_rate iterations\n",
    "    if iter % bkp_rate == 0:\n",
    "        stats[\"backup_weights\"][k] = W[:-1, :].reshape(x_dim, n_classes)\n",
    "        k += 1"
   ]
  },
  {
   "cell_type": "code",
   "execution_count": 10,
   "metadata": {
    "ExecuteTime": {
     "end_time": "2018-10-30T09:57:36.450308Z",
     "start_time": "2018-10-30T09:57:34.886583Z"
    },
    "nbgrader": {
     "cell_type": "code",
     "checksum": "8a0d6a47bb2c1b86a89347bdec660adb",
     "grade": false,
     "grade_id": "cell-3be0a7b31038de2d",
     "locked": true,
     "schema_version": 3,
     "solution": false
    }
   },
   "outputs": [
    {
     "data": {
      "image/png": "[encoded data removed]",
      "text/plain": [
       "<Figure size 432x288 with 2 Axes>"
      ]
     },
     "metadata": {
      "needs_background": "light"
     },
     "output_type": "display_data"
    },
    {
     "data": {
      "image/png": "[encoded data removed]",
      "text/plain": [
       "<Figure size 432x288 with 2 Axes>"
      ]
     },
     "metadata": {
      "needs_background": "light"
     },
     "output_type": "display_data"
    },
    {
     "data": {
      "image/png": "[encoded data removed]",
      "text/plain": [
       "<Figure size 432x288 with 2 Axes>"
      ]
     },
     "metadata": {
      "needs_background": "light"
     },
     "output_type": "display_data"
    },
    {
     "data": {
      "image/png": "[encoded data removed]",
      "text/plain": [
       "<Figure size 432x288 with 2 Axes>"
      ]
     },
     "metadata": {
      "needs_background": "light"
     },
     "output_type": "display_data"
    },
    {
     "data": {
      "image/png": "[encoded data removed]",
      "text/plain": [
       "<Figure size 432x288 with 2 Axes>"
      ]
     },
     "metadata": {
      "needs_background": "light"
     },
     "output_type": "display_data"
    },
    {
     "data": {
      "image/png": "[encoded data removed]",
      "text/plain": [
       "<Figure size 432x288 with 2 Axes>"
      ]
     },
     "metadata": {
      "needs_background": "light"
     },
     "output_type": "display_data"
    },
    {
     "data": {
      "image/png": "[encoded data removed]",
      "text/plain": [
       "<Figure size 432x288 with 2 Axes>"
      ]
     },
     "metadata": {
      "needs_background": "light"
     },
     "output_type": "display_data"
    },
    {
     "data": {
      "image/png": "[encoded data removed]",
      "text/plain": [
       "<Figure size 432x288 with 2 Axes>"
      ]
     },
     "metadata": {
      "needs_background": "light"
     },
     "output_type": "display_data"
    },
    {
     "data": {
      "image/png": "[encoded data removed]",
      "text/plain": [
       "<Figure size 432x288 with 2 Axes>"
      ]
     },
     "metadata": {
      "needs_background": "light"
     },
     "output_type": "display_data"
    },
    {
     "data": {
      "image/png": "[encoded data removed]",
      "text/plain": [
       "<Figure size 432x288 with 2 Axes>"
      ]
     },
     "metadata": {
      "needs_background": "light"
     },
     "output_type": "display_data"
    }
   ],
   "source": [
    "# Choose a number between 0 and 9.\n",
    "vmin, vmax = stats[\"backup_weights\"].min(), stats[\"backup_weights\"].max()\n",
    "\n",
    "pick_number = 0\n",
    "for i in range((n_iter//bkp_rate)):\n",
    "    fig = plt.figure()\n",
    "    ax = fig.add_subplot(111)\n",
    "\n",
    "    cax = ax.matshow(stats[\"backup_weights\"][i][:, pick_number].reshape(\n",
    "        28, 28), cmap=plt.cm.gray, vmin=.5 * vmin, vmax=.5 * vmax)\n",
    "    fig.colorbar(cax)\n",
    "\n",
    "    plt.show()"
   ]
  },
  {
   "cell_type": "markdown",
   "metadata": {
    "nbgrader": {
     "cell_type": "markdown",
     "checksum": "a918998a7a8049d32fee37405625d226",
     "grade": false,
     "grade_id": "cell-dc96bbe353b58ca1",
     "locked": true,
     "schema_version": 3,
     "solution": false
    }
   },
   "source": [
    "### 2.1 Two-layer feedforward networks and the backpropagation algorithm\n",
    "\n",
    "Using backpropagation, we will need to optimize two weight matrices $W_1$ and $W_2$, and bias weights $b_1$ and $b_2$, which we will now consider separately. \n",
    "Further, we assume that an input matrix $x$ has a shape of $[n\\_examples \\times n\\_dimensions]$. Weights $W$ have a shape $[number\\_of\\_input\\_units \\times number\\_of\\_output\\_units]$. \n",
    "\n",
    "![title](./imgs/nn.png)\n",
    "\n",
    "#### A forward pass through the network:\n",
    "\n",
    "  $z_1 = x · W_1 + b_1$ \n",
    "  \n",
    "  $A_1 = f(z_1)$, where $f = tanh$\n",
    "  \n",
    "  $z_2 = A_1W_2 + b_2$\n",
    "  \n",
    "  $y = softmax(z_2)$\n",
    "\n",
    "\n",
    "#### A backward pass:\n",
    "\n",
    "$\\frac{∂L}{∂z_2} = \\delta_o = y − t$ \n",
    "\n",
    "$\\frac{∂L}{∂W_2} = A_1^T · \\delta_o$\n",
    "\n",
    "$\\frac{∂L}{∂z_1} = \\delta_h = \\delta_o · W_2^T  \\times \\frac{∂A_1}{∂z_1},$   where $\\times$ denotes elementwise multiplication\n",
    "\n",
    "$\\frac{∂L}{∂W_1} =  X^T · \\delta_h$"
   ]
  },
  {
   "cell_type": "markdown",
   "metadata": {
    "nbgrader": {
     "cell_type": "markdown",
     "checksum": "59f1822bcd5020644d0ea062748d1cf4",
     "grade": false,
     "grade_id": "cell-58c570a36bd0ff73",
     "locked": true,
     "schema_version": 3,
     "solution": false
    }
   },
   "source": [
    "## Part 2\n",
    "\n",
    "Train a two-layer feedforward network with the backpropagation algorithm. Your algorithm needs to learn the optimal parameters for 4 sets of weight matrices, $W_{in}$, $b_{in}$, $W_{out}$ and $b_{out}$. You need to fill the missing code below, the formulas for the gradients of the bias ($\\frac{∂L}{∂b_{in}}$ and $\\frac{∂L}{∂b_{out}}$ are already defined).\n",
    "\n",
    "As activation function we will use *tanh* for the hidden layer.\n",
    "\n",
    "#### Notes \n",
    "\n",
    "* First of all, complete the *forward_step* function, which evaluates the forward pass through the network. \n",
    "\n",
    "* Remember that $\\frac{∂tanh(x)}{∂x} = 1 - tanh^2(x)$\n",
    "\n",
    "* If everything is correct, the results after 200 iteration should be:\n",
    "\n",
    "`Train CE 0.036090180542620795\n",
    "Train accuracy 1.0\n",
    "Test CE 0.32940399267011444\n",
    "Test accuracy 0.88`"
   ]
  },
  {
   "cell_type": "code",
   "execution_count": 11,
   "metadata": {
    "ExecuteTime": {
     "end_time": "2018-10-30T09:57:36.500237Z",
     "start_time": "2018-10-30T09:57:36.481631Z"
    },
    "nbgrader": {
     "cell_type": "code",
     "checksum": "34ad0496ba0b7aba45c1eafa3e35b6e5",
     "grade": false,
     "grade_id": "cell-4309d704ab751c9c",
     "locked": false,
     "schema_version": 3,
     "solution": true
    }
   },
   "outputs": [],
   "source": [
    "def forward_pass(x, W1, b1, W2, b2, return_output_only=False):\n",
    "    \"\"\"\n",
    "    Forward pass routine, which consists of the activation of two layers.\n",
    "\n",
    "    :param x: Input matrix (n_samples, n_features)\n",
    "    :param W1: Weight matrix of first activation layer (n_features, n_hidden_units W2)\n",
    "    :param b1: bias vector of first layer (1, n_hidden_units W2)\n",
    "    :param W2: Weight matrix of second activation layer (n_hidden_units W2, n_classes)\n",
    "    :param b2: bias vector of second layer (1, n_classes)\n",
    "\n",
    "    :param return_output_only: Boolean to decide whether to return only the output vector or also intermediate steps.    \n",
    "    \"\"\"\n",
    "\n",
    "    z1 = None\n",
    "    a1 = None\n",
    "    z2 = None\n",
    "    y = None\n",
    "\n",
    "    z1 = np.dot(x,W1) + b1\n",
    "    a1 = np.tanh(z1)\n",
    "    z2 = np.dot(a1,W2) + b2\n",
    "    y = softmax(z2)\n",
    "\n",
    "    if return_output_only:\n",
    "        return y\n",
    "\n",
    "    return z1, a1, z2, y"
   ]
  },
  {
   "cell_type": "code",
   "execution_count": 12,
   "metadata": {
    "ExecuteTime": {
     "end_time": "2018-10-30T09:57:36.500237Z",
     "start_time": "2018-10-30T09:57:36.481631Z"
    },
    "nbgrader": {
     "cell_type": "code",
     "checksum": "771ee849285e52177b6d53ab27a9f643",
     "grade": true,
     "grade_id": "forward_pass",
     "locked": true,
     "points": 1,
     "schema_version": 3,
     "solution": false
    }
   },
   "outputs": [],
   "source": [
    "############################# READ ONLY #############################"
   ]
  },
  {
   "cell_type": "code",
   "execution_count": 13,
   "metadata": {
    "ExecuteTime": {
     "end_time": "2018-10-30T09:57:36.529895Z",
     "start_time": "2018-10-30T09:57:36.502494Z"
    },
    "nbgrader": {
     "cell_type": "code",
     "checksum": "4ef5d6d05ab84ec93095f8fe458f78a0",
     "grade": false,
     "grade_id": "cell-e9697690273fc264",
     "locked": false,
     "schema_version": 3,
     "solution": true
    }
   },
   "outputs": [],
   "source": [
    "def backward_pass(predictions, targets, a1, W2, X):\n",
    "    \"\"\"\n",
    "    Backward pass routine, which consists of the gradient propagation of two layers.\n",
    "\n",
    "    :param predictions: Output matrix of the forward pass (n_samples, n_classes)\n",
    "    :param targets: The correct labels one-hot encoded (n_samples, n_classes)\n",
    "    :param a1: Activation output of first layer (n_smaples, n_hidden_units W2)\n",
    "    :param W2: Weight matrix of second activation layer (n_hidden_units W2, n_classes)\n",
    "    :param X: Input matrix of the forward pass(n_samples, n_features)\n",
    "\n",
    "    :param return_output_only: Boolean to decide whether to return only the output vector or also intermediate steps.    \n",
    "    \"\"\"\n",
    "\n",
    "    delta_out = predictions - targets\n",
    "    dW2 = np.dot(a1.T,delta_out)\n",
    "    db2 = np.sum(delta_out, axis=0, keepdims=True)  # already correct\n",
    "    delta_h = np.multiply(np.dot(delta_out,W2.T),1-np.square(a1))\n",
    "    dW1 = np.dot(X.T,delta_h)\n",
    "    db1 = np.sum(delta_h, axis=0)  # already correct\n",
    "    \n",
    "\n",
    "    return dW1, db1, dW2, db2"
   ]
  },
  {
   "cell_type": "code",
   "execution_count": 14,
   "metadata": {
    "ExecuteTime": {
     "end_time": "2018-10-30T09:57:36.529895Z",
     "start_time": "2018-10-30T09:57:36.502494Z"
    },
    "nbgrader": {
     "cell_type": "code",
     "checksum": "a322e016ac48029b558fe9ad649bc61a",
     "grade": true,
     "grade_id": "backward_pass",
     "locked": true,
     "points": 1,
     "schema_version": 3,
     "solution": false
    }
   },
   "outputs": [],
   "source": [
    "############################# READ ONLY #############################"
   ]
  },
  {
   "cell_type": "code",
   "execution_count": 15,
   "metadata": {
    "ExecuteTime": {
     "end_time": "2018-10-30T09:57:37.934324Z",
     "start_time": "2018-10-30T09:57:36.532634Z"
    },
    "nbgrader": {
     "cell_type": "code",
     "checksum": "463823b3317accf31f5787366bc9f65d",
     "grade": false,
     "grade_id": "cell-ed30d7c1ad81be04",
     "locked": true,
     "schema_version": 3,
     "solution": false
    }
   },
   "outputs": [
    {
     "data": {
      "image/png": "[encoded data removed]",
      "text/plain": [
       "<Figure size 432x288 with 1 Axes>"
      ]
     },
     "metadata": {
      "needs_background": "light"
     },
     "output_type": "display_data"
    },
    {
     "name": "stdout",
     "output_type": "stream",
     "text": [
      "Train CE 0.03609018054262079\n",
      "Train accuracy 1.0\n",
      "Test CE 0.32940399267011444\n",
      "Test accuracy 0.88\n"
     ]
    }
   ],
   "source": [
    "rng = np.random.RandomState(100)  # set seed for the random number generator\n",
    "n_iter = 200  # number of training iterations\n",
    "learning_rate = 0.001\n",
    "n_hidden = 50\n",
    "\n",
    "W1 = rng.randn(x_dim, n_hidden) * 0.01\n",
    "b1 = np.zeros((1, n_hidden))\n",
    "W2 = rng.randn(n_hidden, n_classes) * 0.0\n",
    "b2 = np.zeros((1, n_classes))\n",
    "\n",
    "ce_train = []\n",
    "ce_test = []\n",
    "\n",
    "for iter in range(n_iter):\n",
    "\n",
    "    z1, a1, z2, y = forward_pass(x_train, W1, b1, W2, b2)\n",
    "    dW1, db1, dW2, db2 = backward_pass(y, y_train_1h, a1, W2, x_train)\n",
    "\n",
    "    # update parameters\n",
    "    W1 += -learning_rate * dW1\n",
    "    b1 += -learning_rate * db1\n",
    "    W2 += -learning_rate * dW2\n",
    "    b2 += -learning_rate * db2\n",
    "\n",
    "    if iter % 10 == 0:\n",
    "        x_pred = forward_pass(x_train, W1, b1, W2, b2, return_output_only=True)\n",
    "        ce_train.append(cross_entropy(x_pred, y_train_1h))\n",
    "\n",
    "        x_pred = forward_pass(x_test, W1, b1, W2, b2, return_output_only=True)\n",
    "        ce_test.append(cross_entropy(x_pred, y_test_1h))\n",
    "\n",
    "plt.plot(ce_train)\n",
    "plt.plot(ce_test)\n",
    "plt.title(\"Training and validation errors\")\n",
    "plt.show()\n",
    "\n",
    "# final train error\n",
    "x_pred = forward_pass(x_train, W1, b1, W2, b2, return_output_only=True)\n",
    "x_pred_max = np.argmax(x_pred, axis=1)\n",
    "ans_ce_train = cross_entropy(x_pred, y_train_1h)\n",
    "ans_acc_train = 1. * np.equal(x_pred_max, y_train).sum() / n_train\n",
    "print('Train CE', ans_ce_train)\n",
    "print('Train accuracy', ans_acc_train)\n",
    "\n",
    "# final test error\n",
    "x_pred = forward_pass(x_test, W1, b1, W2, b2, return_output_only=True)\n",
    "x_pred_max = np.argmax(x_pred, axis=1)\n",
    "ans_ce_test = cross_entropy(x_pred, y_test_1h)\n",
    "ans_acc_test = 1. * np.equal(x_pred_max, y_test).sum() / n_test\n",
    "print('Test CE', ans_ce_test)\n",
    "print('Test accuracy',  ans_acc_test)"
   ]
  },
  {
   "cell_type": "markdown",
   "metadata": {
    "nbgrader": {
     "cell_type": "markdown",
     "checksum": "b0b81136d0704bfd151ea60ba2baa9ed",
     "grade": false,
     "grade_id": "cell-4a41d1cd3aff166f",
     "locked": true,
     "schema_version": 3,
     "solution": false
    }
   },
   "source": [
    "### 3. Conclusion \n",
    "The performance of our simple neural network can be easily improved in many ways, e.g.\n",
    "1. Better initialization of the weights.\n",
    "2. Fine-tuning the batch size.\n",
    "3. Normalize the input.\n",
    "4. More sophisticated optimization methods (with momentum, adaptive learning rates, etc.).\n",
    "5. Data augmentation."
   ]
  },
  {
   "cell_type": "markdown",
   "metadata": {
    "nbgrader": {
     "cell_type": "markdown",
     "checksum": "7eb22938169730d324c5b3d552f8e81d",
     "grade": false,
     "grade_id": "cell-e70bebed63e176a1",
     "locked": true,
     "schema_version": 3,
     "solution": false
    }
   },
   "source": [
    "## Using toolboxes - extra information \n",
    "\n",
    "### SciKit Learn\n",
    "\n",
    "The popular machine learning toolbox scikit-learn provides an implementation of a standard MLP. A detailed tutorial on how to use Multi-layer Perceptron in scikit-learn can be found [here](http://scikit-learn.org/stable/modules/neural_networks_supervised.html). Below we outlined how to use scikit-learn on MNIST. Feel free to modify the default parameters of the model (read [documentation](http://scikit-learn.org/stable/modules/generated/sklearn.neural_network.MLPClassifier.html#sklearn.neural_network.MLPClassifier)) and try to use different scaling schemes for the input data."
   ]
  },
  {
   "cell_type": "code",
   "execution_count": 16,
   "metadata": {
    "ExecuteTime": {
     "end_time": "2018-10-29T17:30:40.081844Z",
     "start_time": "2018-10-29T17:30:37.033979Z"
    }
   },
   "outputs": [
    {
     "name": "stdout",
     "output_type": "stream",
     "text": [
      "Train CE 9.192646643896338e-15\n",
      "Train accuracy 1.0\n",
      "Test CE 2.80234092428023\n",
      "Test accuracy 0.765\n"
     ]
    },
    {
     "name": "stderr",
     "output_type": "stream",
     "text": [
      "C:\\Users\\Luca\\Anaconda3\\lib\\site-packages\\sklearn\\neural_network\\multilayer_perceptron.py:566: ConvergenceWarning: Stochastic Optimizer: Maximum iterations (200) reached and the optimization hasn't converged yet.\n",
      "  % self.max_iter, ConvergenceWarning)\n"
     ]
    }
   ],
   "source": [
    "import sklearn\n",
    "\n",
    "from sklearn.neural_network import MLPClassifier\n",
    "from sklearn.metrics import accuracy_score, log_loss\n",
    "\n",
    "clf = MLPClassifier(hidden_layer_sizes=(50,))\n",
    "clf.fit(x_train, y_train_1h)\n",
    "\n",
    "x_pred = clf.predict(x_train)\n",
    "x_pred_max = np.argmax(x_pred, axis=1)\n",
    "print('Train CE', log_loss(y_train, x_pred))\n",
    "print('Train accuracy',  accuracy_score(y_train, x_pred_max))\n",
    "\n",
    "x_pred = clf.predict(x_test)\n",
    "x_pred_max = np.argmax(x_pred, axis=1)\n",
    "print('Test CE', log_loss(y_test, x_pred))\n",
    "print('Test accuracy',  accuracy_score(y_test, x_pred_max))"
   ]
  },
  {
   "cell_type": "markdown",
   "metadata": {
    "nbgrader": {
     "cell_type": "markdown",
     "checksum": "d039cb1a15c37353416f1bd39d8194aa",
     "grade": false,
     "grade_id": "cell-aaa909d3380bdf44",
     "locked": true,
     "schema_version": 3,
     "solution": false
    }
   },
   "source": [
    "### Keras\n",
    "Another popular framework for Neural Networks. It is an API that works on top of Tensorflow, CNTK or Theano and that contains the most common models for small projects. We could see it as an intermediate step between Sciki-Learn and the DL libraries (next section).\n",
    "\n",
    "- Keras Documentation [here](https://keras.io)"
   ]
  },
  {
   "cell_type": "markdown",
   "metadata": {
    "nbgrader": {
     "cell_type": "markdown",
     "checksum": "ff19e678ddf50d0ffa812cbb8b8533cd",
     "grade": false,
     "grade_id": "cell-a69df6d465ff6fe7",
     "locked": true,
     "schema_version": 3,
     "solution": false
    }
   },
   "source": [
    "### TensorFlow\n",
    "\n",
    "When you require more freedom over your model's architecture and/or training, you should resort to more sophisticated toolkits, like [TensorFlow](https://www.tensorflow.org/).\n",
    "In broad terms TensorFlow allows performing computations in a data graph which offers several advantages:\n",
    "- High modularity, which facilitates parallel operations.\n",
    "- Automatic differentiation, ideal to calculate gradients.\n",
    "- Fine control of pretty much everything. \n",
    "\n",
    "Following a code example that solves the same classification problem. We can appreciate that we can define the number of hidden units in each layer, the batch size for training, as well as the activation function for each layer."
   ]
  },
  {
   "cell_type": "code",
   "execution_count": 17,
   "metadata": {
    "ExecuteTime": {
     "end_time": "2018-10-29T17:30:44.061779Z",
     "start_time": "2018-10-29T17:30:40.086179Z"
    }
   },
   "outputs": [
    {
     "ename": "ModuleNotFoundError",
     "evalue": "No module named 'tensorflow'",
     "output_type": "error",
     "traceback": [
      "\u001b[1;31m---------------------------------------------------------------------------\u001b[0m",
      "\u001b[1;31mModuleNotFoundError\u001b[0m                       Traceback (most recent call last)",
      "\u001b[1;32m<ipython-input-17-c074d92dd2a0>\u001b[0m in \u001b[0;36m<module>\u001b[1;34m\u001b[0m\n\u001b[1;32m----> 1\u001b[1;33m \u001b[1;32mimport\u001b[0m \u001b[0mtensorflow\u001b[0m \u001b[1;32mas\u001b[0m \u001b[0mtf\u001b[0m\u001b[1;33m\u001b[0m\u001b[1;33m\u001b[0m\u001b[0m\n\u001b[0m\u001b[0;32m      2\u001b[0m \u001b[0mprint\u001b[0m\u001b[1;33m(\u001b[0m\u001b[1;34m'TensorFlow version:'\u001b[0m\u001b[1;33m,\u001b[0m \u001b[0mtf\u001b[0m\u001b[1;33m.\u001b[0m\u001b[0m__version__\u001b[0m\u001b[1;33m)\u001b[0m\u001b[1;33m\u001b[0m\u001b[1;33m\u001b[0m\u001b[0m\n\u001b[0;32m      3\u001b[0m \u001b[1;33m\u001b[0m\u001b[0m\n\u001b[0;32m      4\u001b[0m \u001b[1;31m# Parameters\u001b[0m\u001b[1;33m\u001b[0m\u001b[1;33m\u001b[0m\u001b[1;33m\u001b[0m\u001b[0m\n\u001b[0;32m      5\u001b[0m \u001b[0mlearning_rate\u001b[0m \u001b[1;33m=\u001b[0m \u001b[1;36m0.01\u001b[0m\u001b[1;33m\u001b[0m\u001b[1;33m\u001b[0m\u001b[0m\n",
      "\u001b[1;31mModuleNotFoundError\u001b[0m: No module named 'tensorflow'"
     ]
    }
   ],
   "source": [
    "import tensorflow as tf\n",
    "print('TensorFlow version:', tf.__version__)\n",
    "\n",
    "# Parameters\n",
    "learning_rate = 0.01\n",
    "num_steps = 500\n",
    "batch_size = 50  # Train sample by sample\n",
    "\n",
    "display_step = 30\n",
    "\n",
    "# Network Parameters\n",
    "n_hidden_1 = 50  # 1st hidden layer\n",
    "n_hidden_2 = 50  # 2nd hidden layer\n",
    "num_input = 784  # MNIST data input (img shape: 28*28)\n",
    "num_classes = 10  # MNIST total classes (0-9 digits)\n",
    "\n",
    "\n",
    "# tf Graph input\n",
    "X = tf.placeholder(\"float\", [None, num_input])\n",
    "Y = tf.placeholder(\"float\", [None, num_classes])\n",
    "\n",
    "# Store layers weight & bias\n",
    "weights = {\n",
    "    'h1': tf.Variable(tf.random_normal([num_input, n_hidden_1])),\n",
    "    'h2': tf.Variable(tf.random_normal([n_hidden_1, n_hidden_2])),\n",
    "    'out': tf.Variable(tf.random_normal([n_hidden_2, num_classes]))\n",
    "}\n",
    "biases = {\n",
    "    'b1': tf.Variable(tf.random_normal([n_hidden_1])),\n",
    "    'b2': tf.Variable(tf.random_normal([n_hidden_2])),\n",
    "    'out': tf.Variable(tf.random_normal([num_classes]))\n",
    "}\n",
    "\n",
    "# Define model\n",
    "\n",
    "\n",
    "def neural_net(x):\n",
    "    # Hidden fully connected layer with 256 neurons\n",
    "    layer_1 = tf.add(tf.matmul(x, weights['h1']), biases['b1'])\n",
    "    # Hidden fully connected layer with 256 neurons\n",
    "    layer_2 = tf.add(tf.matmul(layer_1, weights['h2']), biases['b2'])\n",
    "    # Output fully connected layer with a neuron for each class\n",
    "    out_layer = tf.matmul(layer_2, weights['out']) + biases['out']\n",
    "    return out_layer\n",
    "\n",
    "\n",
    "# Construct model\n",
    "logits = neural_net(X)\n",
    "prediction = tf.nn.softmax(logits)\n",
    "\n",
    "# Define loss and optimizer\n",
    "loss_op = tf.reduce_mean(\n",
    "    tf.nn.softmax_cross_entropy_with_logits(logits=logits, labels=Y))\n",
    "\n",
    "# List of optimziers\n",
    "optimizer = tf.train.AdamOptimizer(learning_rate=learning_rate)\n",
    "\n",
    "train_op = optimizer.minimize(loss_op)\n",
    "\n",
    "# Evaluate model\n",
    "correct_pred = tf.equal(tf.argmax(prediction, 1), tf.argmax(Y, 1))\n",
    "accuracy = tf.reduce_mean(tf.cast(correct_pred, tf.float32))\n",
    "\n",
    "# Initialize the variables\n",
    "init = tf.global_variables_initializer()\n",
    "\n",
    "# Start training\n",
    "stats = {'loss': np.zeros(1+(num_steps)//display_step),\n",
    "         'acc': np.zeros(1+(num_steps)//display_step)}\n",
    "k = 0\n",
    "with tf.Session() as sess:\n",
    "    # Run the initializer\n",
    "    sess.run(init)\n",
    "\n",
    "    for step in range(1, num_steps+1):\n",
    "        rand_index = np.random.choice(len(x_train), size=batch_size)\n",
    "\n",
    "        batch_x, batch_y = x_train[rand_index], y_train_1h[rand_index]\n",
    "\n",
    "        # Run optimization op (backprop)\n",
    "        sess.run(train_op, feed_dict={X: batch_x, Y: batch_y})\n",
    "        if step % display_step == 0 or step == 1:\n",
    "            # Calculate batch loss and accuracy\n",
    "            loss, acc = sess.run([loss_op, accuracy], feed_dict={X: batch_x,\n",
    "                                                                 Y: batch_y})\n",
    "            stats['loss'][k] = loss\n",
    "            stats['acc'][k] = acc\n",
    "            k += 1\n",
    "            print(\"Step \" + str(step) + \", Minibatch Loss= \" +\n",
    "                  \"{:.4f}\".format(loss) + \", Training Accuracy= \" +\n",
    "                  \"{:.3f}\".format(acc))\n",
    "\n",
    "    print(\"Optimization Finished!\")\n",
    "\n",
    "    # Calculate accuracy for MNIST test images\n",
    "    print(\"Testing Accuracy:\",\n",
    "          sess.run(accuracy, feed_dict={X: x_test,\n",
    "                                        Y: y_test_1h}))"
   ]
  },
  {
   "cell_type": "code",
   "execution_count": null,
   "metadata": {
    "ExecuteTime": {
     "end_time": "2018-10-29T17:30:44.406135Z",
     "start_time": "2018-10-29T17:30:44.069222Z"
    }
   },
   "outputs": [],
   "source": [
    "plt.plot(stats['loss'])\n",
    "plt.title(\"Loss-Cross Entropy\")\n",
    "plt.show()\n",
    "\n",
    "plt.plot(stats['acc'])\n",
    "plt.title(\"Accuracy\")\n",
    "plt.show()"
   ]
  },
  {
   "cell_type": "markdown",
   "metadata": {
    "nbgrader": {
     "cell_type": "markdown",
     "checksum": "f3999cb78914616cdc8abf1bd912ca16",
     "grade": false,
     "grade_id": "cell-44d503ca2927b962",
     "locked": true,
     "schema_version": 3,
     "solution": false
    }
   },
   "source": [
    "Final remark. Tensorflow is only one of the many Deep learning libraries available. Although it may be one of the most used libraries, there are plenty of other options. (You can easily find more information about their differences elsewhere).\n",
    "\n",
    "- Torch [For Lua](https://torch.ch/) [For Python](https://pytorch.org/)\n",
    "- Caffe [here](https://caffe.berkeleyvision.org/) / Caffe2 [here](https://caffe2.ai/)\n",
    "- CNTK [Github](https://github.com/Microsoft/CNTK)\n",
    "\n",
    "Some extra links:\n",
    "- Stanford course on Tensorflow https://web.stanford.edu/class/cs20si/\n",
    "- A nice visual tool for Neural Networks: http://playground.tensorflow.org"
   ]
  }
 ],
 "metadata": {
  "anaconda-cloud": {},
  "kernelspec": {
   "display_name": "Python 3",
   "language": "python",
   "name": "python3"
  },
  "language_info": {
   "codemirror_mode": {
    "name": "ipython",
    "version": 3
   },
   "file_extension": ".py",
   "mimetype": "text/x-python",
   "name": "python",
   "nbconvert_exporter": "python",
   "pygments_lexer": "ipython3",
   "version": "3.7.3"
  }
 },
 "nbformat": 4,
 "nbformat_minor": 1
}
